{
 "cells": [
  {
   "cell_type": "code",
   "execution_count": 13,
   "metadata": {},
   "outputs": [
    {
     "name": "stdout",
     "output_type": "stream",
     "text": [
      "1.9.0\n"
     ]
    }
   ],
   "source": [
    "import tensorflow as tf\n",
    "from tensorflow import keras\n",
    "\n",
    "import numpy as np\n",
    "print(tf.__version__)"
   ]
  },
  {
   "cell_type": "markdown",
   "metadata": {},
   "source": [
    "## Classify movie reviews: \n",
    "classifies movie reviews as positive or negative using the text of the review. we will use the IMDB dataset"
   ]
  },
  {
   "cell_type": "code",
   "execution_count": 14,
   "metadata": {},
   "outputs": [],
   "source": [
    "imdb = keras.datasets.imdb\n",
    "\n",
    "(train_data, train_labels), (test_data, test_labels) = imdb.load_data(num_words=10000)"
   ]
  },
  {
   "cell_type": "markdown",
   "metadata": {},
   "source": [
    "## Explore the data"
   ]
  },
  {
   "cell_type": "code",
   "execution_count": 15,
   "metadata": {},
   "outputs": [
    {
     "name": "stdout",
     "output_type": "stream",
     "text": [
      "Training entries: 25000, labels: 25000\n"
     ]
    }
   ],
   "source": [
    "\n",
    "print(\"Training entries: {}, labels: {}\".format(len(train_data), len(train_labels)))"
   ]
  },
  {
   "cell_type": "code",
   "execution_count": 16,
   "metadata": {},
   "outputs": [
    {
     "name": "stdout",
     "output_type": "stream",
     "text": [
      "(25000,)\n",
      "[1 0 0 1 0 0 1 0 1 0]\n",
      "[1, 14, 22, 16, 43, 530, 973, 1622, 1385, 65, 458, 4468, 66, 3941, 4, 173, 36, 256, 5, 25, 100, 43, 838, 112, 50, 670, 2, 9, 35, 480, 284, 5, 150, 4, 172, 112, 167, 2, 336, 385, 39, 4, 172, 4536, 1111, 17, 546, 38, 13, 447, 4, 192, 50, 16, 6, 147, 2025, 19, 14, 22, 4, 1920, 4613, 469, 4, 22, 71, 87, 12, 16, 43, 530, 38, 76, 15, 13, 1247, 4, 22, 17, 515, 17, 12, 16, 626, 18, 2, 5, 62, 386, 12, 8, 316, 8, 106, 5, 4, 2223, 5244, 16, 480, 66, 3785, 33, 4, 130, 12, 16, 38, 619, 5, 25, 124, 51, 36, 135, 48, 25, 1415, 33, 6, 22, 12, 215, 28, 77, 52, 5, 14, 407, 16, 82, 2, 8, 4, 107, 117, 5952, 15, 256, 4, 2, 7, 3766, 5, 723, 36, 71, 43, 530, 476, 26, 400, 317, 46, 7, 4, 2, 1029, 13, 104, 88, 4, 381, 15, 297, 98, 32, 2071, 56, 26, 141, 6, 194, 7486, 18, 4, 226, 22, 21, 134, 476, 26, 480, 5, 144, 30, 5535, 18, 51, 36, 28, 224, 92, 25, 104, 4, 226, 65, 16, 38, 1334, 88, 12, 16, 283, 5, 16, 4472, 113, 103, 32, 15, 16, 5345, 19, 178, 32]\n"
     ]
    }
   ],
   "source": [
    "print(train_data.shape)\n",
    "print(train_labels[:10])\n",
    "print(train_data[0])"
   ]
  },
  {
   "cell_type": "code",
   "execution_count": 17,
   "metadata": {},
   "outputs": [
    {
     "name": "stdout",
     "output_type": "stream",
     "text": [
      "218 189\n"
     ]
    }
   ],
   "source": [
    "print(len(train_data[0]), len(train_data[1]))"
   ]
  },
  {
   "cell_type": "markdown",
   "metadata": {},
   "source": [
    "## Convert the integers back to words\n",
    "we'll create a helper function to query a dictionary object that contains the integer to string mapping:"
   ]
  },
  {
   "cell_type": "code",
   "execution_count": 18,
   "metadata": {},
   "outputs": [],
   "source": [
    "# A dictionary mapping words to an integer index\n",
    "word_index = imdb.get_word_index()\n",
    "\n",
    "#the first indices are reserved\n",
    "word_index = {k: (v+3) for k, v in word_index.items()}\n",
    "word_index[\"<PAD>\"] = 0\n",
    "word_index[\"<START>\"] = 1\n",
    "word_index[\"<UNK>\"] = 2\n",
    "word_index[\"<UNUSED>\"] = 3\n",
    "\n",
    "reverse_word_index = dict([(value, key) for (key, value) in word_index.items()])\n",
    "\n",
    "def decode_review(text):\n",
    "    return ' '.join([reverse_word_index.get(i, '?') for i in text])"
   ]
  },
  {
   "cell_type": "code",
   "execution_count": 19,
   "metadata": {},
   "outputs": [
    {
     "data": {
      "text/plain": [
       "\"<START> this film was just brilliant casting location scenery story direction everyone's really suited the part they played and you could just imagine being there robert <UNK> is an amazing actor and now the same being director <UNK> father came from the same scottish island as myself so i loved the fact there was a real connection with this film the witty remarks throughout the film were great it was just brilliant so much that i bought the film as soon as it was released for <UNK> and would recommend it to everyone to watch and the fly fishing was amazing really cried at the end it was so sad and you know what they say if you cry at a film it must have been good and this definitely was also <UNK> to the two little boy's that played the <UNK> of norman and paul they were just brilliant children are often left out of the <UNK> list i think because the stars that play them all grown up are such a big profile for the whole film but these children are amazing and should be praised for what they have done don't you think the whole story was so lovely because it was true and was someone's life after all that was shared with us all\""
      ]
     },
     "execution_count": 19,
     "metadata": {},
     "output_type": "execute_result"
    }
   ],
   "source": [
    "decode_review(train_data[0])"
   ]
  },
  {
   "cell_type": "markdown",
   "metadata": {},
   "source": [
    "## Prepare the data\n",
    "we will use the pad_sequences function to standardize the lengths:"
   ]
  },
  {
   "cell_type": "code",
   "execution_count": 22,
   "metadata": {},
   "outputs": [],
   "source": [
    "train_data = keras.preprocessing.sequence.pad_sequences(train_data,\n",
    "                                                       value=word_index[\"<PAD>\"],\n",
    "                                                       padding='post',\n",
    "                                                       maxlen=256)\n",
    "test_data = keras.preprocessing.sequence.pad_sequences(test_data,\n",
    "                                                      value=word_index[\"<PAD>\"],\n",
    "                                                      padding='post',\n",
    "                                                      maxlen=256)"
   ]
  },
  {
   "cell_type": "code",
   "execution_count": 24,
   "metadata": {},
   "outputs": [
    {
     "name": "stdout",
     "output_type": "stream",
     "text": [
      "(25000, 256)\n",
      "256 256\n"
     ]
    }
   ],
   "source": [
    "print(train_data.shape)\n",
    "print(len(train_data[0]), len(train_data[1]))"
   ]
  },
  {
   "cell_type": "code",
   "execution_count": 25,
   "metadata": {},
   "outputs": [
    {
     "name": "stdout",
     "output_type": "stream",
     "text": [
      "[   1   14   22   16   43  530  973 1622 1385   65  458 4468   66 3941\n",
      "    4  173   36  256    5   25  100   43  838  112   50  670    2    9\n",
      "   35  480  284    5  150    4  172  112  167    2  336  385   39    4\n",
      "  172 4536 1111   17  546   38   13  447    4  192   50   16    6  147\n",
      " 2025   19   14   22    4 1920 4613  469    4   22   71   87   12   16\n",
      "   43  530   38   76   15   13 1247    4   22   17  515   17   12   16\n",
      "  626   18    2    5   62  386   12    8  316    8  106    5    4 2223\n",
      " 5244   16  480   66 3785   33    4  130   12   16   38  619    5   25\n",
      "  124   51   36  135   48   25 1415   33    6   22   12  215   28   77\n",
      "   52    5   14  407   16   82    2    8    4  107  117 5952   15  256\n",
      "    4    2    7 3766    5  723   36   71   43  530  476   26  400  317\n",
      "   46    7    4    2 1029   13  104   88    4  381   15  297   98   32\n",
      " 2071   56   26  141    6  194 7486   18    4  226   22   21  134  476\n",
      "   26  480    5  144   30 5535   18   51   36   28  224   92   25  104\n",
      "    4  226   65   16   38 1334   88   12   16  283    5   16 4472  113\n",
      "  103   32   15   16 5345   19  178   32    0    0    0    0    0    0\n",
      "    0    0    0    0    0    0    0    0    0    0    0    0    0    0\n",
      "    0    0    0    0    0    0    0    0    0    0    0    0    0    0\n",
      "    0    0    0    0]\n"
     ]
    }
   ],
   "source": [
    "print(train_data[0])"
   ]
  },
  {
   "cell_type": "code",
   "execution_count": 26,
   "metadata": {},
   "outputs": [
    {
     "name": "stdout",
     "output_type": "stream",
     "text": [
      "_________________________________________________________________\n",
      "Layer (type)                 Output Shape              Param #   \n",
      "=================================================================\n",
      "embedding (Embedding)        (None, None, 16)          160000    \n",
      "_________________________________________________________________\n",
      "global_average_pooling1d (Gl (None, 16)                0         \n",
      "_________________________________________________________________\n",
      "dense (Dense)                (None, 16)                272       \n",
      "_________________________________________________________________\n",
      "dense_1 (Dense)              (None, 1)                 17        \n",
      "=================================================================\n",
      "Total params: 160,289\n",
      "Trainable params: 160,289\n",
      "Non-trainable params: 0\n",
      "_________________________________________________________________\n"
     ]
    }
   ],
   "source": [
    "vocab_size = 10000\n",
    "\n",
    "model = keras.Sequential()\n",
    "model.add(keras.layers.Embedding(vocab_size, 16))\n",
    "model.add(keras.layers.GlobalAveragePooling1D())\n",
    "model.add(keras.layers.Dense(16, activation=tf.nn.relu))\n",
    "model.add(keras.layers.Dense(1, activation=tf.nn.sigmoid))\n",
    "\n",
    "model.summary()"
   ]
  },
  {
   "cell_type": "code",
   "execution_count": 27,
   "metadata": {},
   "outputs": [],
   "source": [
    "model.compile(optimizer=tf.train.AdamOptimizer(),\n",
    "              loss='binary_crossentropy',\n",
    "              metrics=['accuracy'])"
   ]
  },
  {
   "cell_type": "code",
   "execution_count": 28,
   "metadata": {},
   "outputs": [],
   "source": [
    "x_val = train_data[:10000]\n",
    "partial_x_train = train_data[10000:]\n",
    "\n",
    "y_val = train_labels[:10000]\n",
    "partial_y_train = train_labels[10000:]"
   ]
  },
  {
   "cell_type": "code",
   "execution_count": 29,
   "metadata": {},
   "outputs": [
    {
     "name": "stdout",
     "output_type": "stream",
     "text": [
      "Train on 15000 samples, validate on 10000 samples\n",
      "Epoch 1/40\n",
      "15000/15000 [==============================] - 1s 83us/step - loss: 0.6985 - acc: 0.5061 - val_loss: 0.6920 - val_acc: 0.5258\n",
      "Epoch 2/40\n",
      "15000/15000 [==============================] - 1s 56us/step - loss: 0.6913 - acc: 0.5335 - val_loss: 0.6903 - val_acc: 0.5526\n",
      "Epoch 3/40\n",
      "15000/15000 [==============================] - 1s 55us/step - loss: 0.6890 - acc: 0.5691 - val_loss: 0.6884 - val_acc: 0.5717\n",
      "Epoch 4/40\n",
      "15000/15000 [==============================] - 1s 50us/step - loss: 0.6866 - acc: 0.6129 - val_loss: 0.6861 - val_acc: 0.5854\n",
      "Epoch 5/40\n",
      "15000/15000 [==============================] - 1s 50us/step - loss: 0.6835 - acc: 0.6085 - val_loss: 0.6825 - val_acc: 0.6612\n",
      "Epoch 6/40\n",
      "15000/15000 [==============================] - 1s 50us/step - loss: 0.6792 - acc: 0.6761 - val_loss: 0.6779 - val_acc: 0.6866\n",
      "Epoch 7/40\n",
      "15000/15000 [==============================] - 1s 50us/step - loss: 0.6728 - acc: 0.6873 - val_loss: 0.6711 - val_acc: 0.6372\n",
      "Epoch 8/40\n",
      "15000/15000 [==============================] - 1s 50us/step - loss: 0.6628 - acc: 0.7087 - val_loss: 0.6605 - val_acc: 0.7025\n",
      "Epoch 9/40\n",
      "15000/15000 [==============================] - 1s 50us/step - loss: 0.6498 - acc: 0.7426 - val_loss: 0.6464 - val_acc: 0.7430\n",
      "Epoch 10/40\n",
      "15000/15000 [==============================] - 1s 50us/step - loss: 0.6326 - acc: 0.7703 - val_loss: 0.6287 - val_acc: 0.7597\n",
      "Epoch 11/40\n",
      "15000/15000 [==============================] - 1s 52us/step - loss: 0.6116 - acc: 0.7691 - val_loss: 0.6091 - val_acc: 0.7616\n",
      "Epoch 12/40\n",
      "15000/15000 [==============================] - 1s 52us/step - loss: 0.5869 - acc: 0.7877 - val_loss: 0.5841 - val_acc: 0.7774\n",
      "Epoch 13/40\n",
      "15000/15000 [==============================] - 1s 51us/step - loss: 0.5590 - acc: 0.8028 - val_loss: 0.5592 - val_acc: 0.7899\n",
      "Epoch 14/40\n",
      "15000/15000 [==============================] - 1s 49us/step - loss: 0.5297 - acc: 0.8127 - val_loss: 0.5305 - val_acc: 0.7995\n",
      "Epoch 15/40\n",
      "15000/15000 [==============================] - 1s 51us/step - loss: 0.4968 - acc: 0.8251 - val_loss: 0.5006 - val_acc: 0.8114\n",
      "Epoch 16/40\n",
      "15000/15000 [==============================] - 1s 50us/step - loss: 0.4657 - acc: 0.8363 - val_loss: 0.4732 - val_acc: 0.8248\n",
      "Epoch 17/40\n",
      "15000/15000 [==============================] - 1s 49us/step - loss: 0.4355 - acc: 0.8523 - val_loss: 0.4483 - val_acc: 0.8335\n",
      "Epoch 18/40\n",
      "15000/15000 [==============================] - 1s 51us/step - loss: 0.4085 - acc: 0.8630 - val_loss: 0.4256 - val_acc: 0.8417\n",
      "Epoch 19/40\n",
      "15000/15000 [==============================] - 1s 64us/step - loss: 0.3843 - acc: 0.8715 - val_loss: 0.4059 - val_acc: 0.8490\n",
      "Epoch 20/40\n",
      "15000/15000 [==============================] - 1s 51us/step - loss: 0.3627 - acc: 0.8781 - val_loss: 0.3888 - val_acc: 0.8542\n",
      "Epoch 21/40\n",
      "15000/15000 [==============================] - 1s 51us/step - loss: 0.3438 - acc: 0.8846 - val_loss: 0.3743 - val_acc: 0.8592\n",
      "Epoch 22/40\n",
      "15000/15000 [==============================] - 1s 50us/step - loss: 0.3270 - acc: 0.8882 - val_loss: 0.3620 - val_acc: 0.8618\n",
      "Epoch 23/40\n",
      "15000/15000 [==============================] - 1s 51us/step - loss: 0.3125 - acc: 0.8929 - val_loss: 0.3519 - val_acc: 0.8651\n",
      "Epoch 24/40\n",
      "15000/15000 [==============================] - 1s 50us/step - loss: 0.2991 - acc: 0.8967 - val_loss: 0.3426 - val_acc: 0.8682\n",
      "Epoch 25/40\n",
      "15000/15000 [==============================] - 1s 52us/step - loss: 0.2874 - acc: 0.9011 - val_loss: 0.3349 - val_acc: 0.8714\n",
      "Epoch 26/40\n",
      "15000/15000 [==============================] - 1s 52us/step - loss: 0.2766 - acc: 0.9037 - val_loss: 0.3287 - val_acc: 0.8733\n",
      "Epoch 27/40\n",
      "15000/15000 [==============================] - 1s 50us/step - loss: 0.2673 - acc: 0.9056 - val_loss: 0.3225 - val_acc: 0.8753\n",
      "Epoch 28/40\n",
      "15000/15000 [==============================] - 1s 53us/step - loss: 0.2573 - acc: 0.9109 - val_loss: 0.3167 - val_acc: 0.8773\n",
      "Epoch 29/40\n",
      "15000/15000 [==============================] - 1s 51us/step - loss: 0.2487 - acc: 0.9131 - val_loss: 0.3128 - val_acc: 0.8759\n",
      "Epoch 30/40\n",
      "15000/15000 [==============================] - 1s 53us/step - loss: 0.2416 - acc: 0.9146 - val_loss: 0.3083 - val_acc: 0.8785\n",
      "Epoch 31/40\n",
      "15000/15000 [==============================] - 1s 52us/step - loss: 0.2333 - acc: 0.9180 - val_loss: 0.3053 - val_acc: 0.8794\n",
      "Epoch 32/40\n",
      "15000/15000 [==============================] - 1s 50us/step - loss: 0.2270 - acc: 0.9196 - val_loss: 0.3022 - val_acc: 0.8812\n",
      "Epoch 33/40\n",
      "15000/15000 [==============================] - 1s 51us/step - loss: 0.2197 - acc: 0.9231 - val_loss: 0.2996 - val_acc: 0.8814\n",
      "Epoch 34/40\n",
      "15000/15000 [==============================] - 1s 51us/step - loss: 0.2137 - acc: 0.9244 - val_loss: 0.2980 - val_acc: 0.8819\n",
      "Epoch 35/40\n",
      "15000/15000 [==============================] - 1s 52us/step - loss: 0.2084 - acc: 0.9257 - val_loss: 0.2955 - val_acc: 0.8837\n",
      "Epoch 36/40\n",
      "15000/15000 [==============================] - 1s 52us/step - loss: 0.2022 - acc: 0.9291 - val_loss: 0.2938 - val_acc: 0.8827\n",
      "Epoch 37/40\n",
      "15000/15000 [==============================] - 1s 54us/step - loss: 0.1970 - acc: 0.9313 - val_loss: 0.2923 - val_acc: 0.8837\n",
      "Epoch 38/40\n",
      "15000/15000 [==============================] - 1s 53us/step - loss: 0.1920 - acc: 0.9325 - val_loss: 0.2913 - val_acc: 0.8842\n",
      "Epoch 39/40\n",
      "15000/15000 [==============================] - 1s 53us/step - loss: 0.1867 - acc: 0.9355 - val_loss: 0.2900 - val_acc: 0.8849\n",
      "Epoch 40/40\n",
      "15000/15000 [==============================] - 1s 52us/step - loss: 0.1820 - acc: 0.9373 - val_loss: 0.2890 - val_acc: 0.8851\n"
     ]
    }
   ],
   "source": [
    "history = model.fit(partial_x_train,\n",
    "                    partial_y_train,\n",
    "                    epochs=40,\n",
    "                    batch_size=512,\n",
    "                    validation_data=(x_val, y_val),\n",
    "                    verbose=1)"
   ]
  },
  {
   "cell_type": "markdown",
   "metadata": {},
   "source": [
    "## Evaluate the model"
   ]
  },
  {
   "cell_type": "code",
   "execution_count": 30,
   "metadata": {},
   "outputs": [
    {
     "name": "stdout",
     "output_type": "stream",
     "text": [
      "25000/25000 [==============================] - 1s 32us/step\n",
      "[0.3031642485523224, 0.87584]\n"
     ]
    }
   ],
   "source": [
    "results = model.evaluate(test_data, test_labels)\n",
    "\n",
    "print(results)"
   ]
  },
  {
   "cell_type": "markdown",
   "metadata": {},
   "source": [
    "## Create a graph of accuracy and loss over time\n",
    "model.fit() returns a History object that contains a dictionary with everything that happened during training:"
   ]
  },
  {
   "cell_type": "code",
   "execution_count": 31,
   "metadata": {},
   "outputs": [
    {
     "data": {
      "text/plain": [
       "dict_keys(['val_loss', 'val_acc', 'loss', 'acc'])"
      ]
     },
     "execution_count": 31,
     "metadata": {},
     "output_type": "execute_result"
    }
   ],
   "source": [
    "history_dict = history.history\n",
    "history_dict.keys()"
   ]
  },
  {
   "cell_type": "code",
   "execution_count": 34,
   "metadata": {},
   "outputs": [
    {
     "data": {
      "image/png": "[encoded data removed]",
      "text/plain": [
       "<matplotlib.figure.Figure at 0x183c735cf8>"
      ]
     },
     "metadata": {},
     "output_type": "display_data"
    }
   ],
   "source": [
    "import matplotlib.pyplot as plt\n",
    "\n",
    "acc = history.history['acc']\n",
    "val_acc = history.history['val_acc']\n",
    "loss = history.history['loss']\n",
    "val_loss = history.history['val_loss']\n",
    "\n",
    "epochs = range(1, len(acc) + 1)\n",
    "\n",
    "# \"bo\" is for \"blue dot\"\n",
    "plt.plot(epochs, loss, 'bo', label='Training loss')\n",
    "# b is for \"solid blue line\"\n",
    "plt.plot(epochs, val_loss, 'b', label='Validation loss')\n",
    "plt.title('Training and validation loss')\n",
    "plt.xlabel('Epochs')\n",
    "plt.ylabel('Loss')\n",
    "plt.legend()\n",
    "\n",
    "plt.show()"
   ]
  },
  {
   "cell_type": "code",
   "execution_count": 33,
   "metadata": {},
   "outputs": [
    {
     "data": {
      "image/png": "[encoded data removed]",
      "text/plain": [
       "<matplotlib.figure.Figure at 0x1839c8d0b8>"
      ]
     },
     "metadata": {},
     "output_type": "display_data"
    }
   ],
   "source": [
    "plt.clf()   # clear figure\n",
    "acc_values = history_dict['acc']\n",
    "val_acc_values = history_dict['val_acc']\n",
    "\n",
    "plt.plot(epochs, acc, 'bo', label='Training acc')\n",
    "plt.plot(epochs, val_acc, 'b', label='Validation acc')\n",
    "plt.title('Training and validation accuracy')\n",
    "plt.xlabel('Epochs')\n",
    "plt.ylabel('Accuracy')\n",
    "plt.legend()\n",
    "\n",
    "plt.show()"
   ]
  },
  {
   "cell_type": "code",
   "execution_count": null,
   "metadata": {},
   "outputs": [],
   "source": []
  }
 ],
 "metadata": {
  "kernelspec": {
   "display_name": "Python 3",
   "language": "python",
   "name": "python3"
  },
  "language_info": {
   "codemirror_mode": {
    "name": "ipython",
    "version": 3
   },
   "file_extension": ".py",
   "mimetype": "text/x-python",
   "name": "python",
   "nbconvert_exporter": "python",
   "pygments_lexer": "ipython3",
   "version": "3.6.4"
  }
 },
 "nbformat": 4,
 "nbformat_minor": 2
}
